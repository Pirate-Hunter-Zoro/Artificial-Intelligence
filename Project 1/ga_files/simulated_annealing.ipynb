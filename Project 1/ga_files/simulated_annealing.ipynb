{
 "cells": [
  {
   "cell_type": "code",
   "execution_count": 1,
   "metadata": {},
   "outputs": [
    {
     "name": "stdout",
     "output_type": "stream",
     "text": [
      "0.006737946999085467\n"
     ]
    }
   ],
   "source": [
    "from math import exp\n",
    "import random\n",
    "from typing import Type\n",
    "import numpy as np\n",
    "import matplotlib.pyplot as plt\n",
    "\n",
    "class SimulatedAnnealingSolver:\n",
    "    \n",
    "    def __init__(self, schedule: Type[float]):\n",
    "        self.schedule_func = schedule\n",
    "        \n",
    "solver = SimulatedAnnealingSolver(lambda n : exp(-n))\n",
    "print(solver.schedule_func(5))"
   ]
  }
 ],
 "metadata": {
  "kernelspec": {
   "display_name": "ai_env",
   "language": "python",
   "name": "python3"
  },
  "language_info": {
   "codemirror_mode": {
    "name": "ipython",
    "version": 3
   },
   "file_extension": ".py",
   "mimetype": "text/x-python",
   "name": "python",
   "nbconvert_exporter": "python",
   "pygments_lexer": "ipython3",
   "version": "3.12.4"
  }
 },
 "nbformat": 4,
 "nbformat_minor": 2
}
