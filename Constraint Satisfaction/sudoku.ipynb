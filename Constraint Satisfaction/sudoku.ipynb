{
 "cells": [
  {
   "cell_type": "markdown",
   "metadata": {},
   "source": [
    "### This notebook generates a Sudoku problem (code sourced) and solves it (my implementation)."
   ]
  },
  {
   "cell_type": "code",
   "execution_count": 1,
   "metadata": {},
   "outputs": [],
   "source": [
    "################################################################\n",
    "## CLI Wrapper for a Sudoku generator\n",
    "##  by Chad Crawford, using code from Gareth Rees\n",
    "################################################################\n",
    "\n",
    "import random\n",
    "from functools import *\n",
    "\n",
    "## From Gareth Rees at https://codereview.stackexchange.com/a/88866\n",
    "def make_board(m: int=3) -> list[list[int]]:\n",
    "    \"\"\"Return a random filled m**2 x m**2 Sudoku board.\"\"\"\n",
    "    n = m**2\n",
    "    board = [[None for _ in range(n)] for _ in range(n)]\n",
    "\n",
    "    def search(c: int=0) -> list[list[int]]:\n",
    "        \"Recursively search for a solution starting at position c.\"\n",
    "        i, j = divmod(c, n)\n",
    "        i0, j0 = i - i % m, j - j % m # Origin of mxm block\n",
    "        numbers = list(range(1, n + 1))\n",
    "        random.shuffle(numbers)\n",
    "        for x in numbers:\n",
    "            if (x not in board[i]                     # row\n",
    "                and all(row[j] != x for row in board) # column\n",
    "                and all(x not in row[j0:j0+m]         # block\n",
    "                        for row in board[i0:i])):\n",
    "                board[i][j] = x\n",
    "                if c + 1 >= n**2 or search(c + 1):\n",
    "                    return board\n",
    "        else:\n",
    "            # No number is valid in this cell: backtrack and try again.\n",
    "            board[i][j] = None\n",
    "            return None\n",
    "\n",
    "    return search()"
   ]
  },
  {
   "cell_type": "code",
   "execution_count": 13,
   "metadata": {},
   "outputs": [
    {
     "name": "stdout",
     "output_type": "stream",
     "text": [
      "Board written to 'sudoku.json'.\n"
     ]
    }
   ],
   "source": [
    "import json\n",
    "import argparse\n",
    "\n",
    "num_missing = 10\n",
    "\n",
    "parser = argparse.ArgumentParser(description='Generates random Sudoku board configurations. Represented as a Python list of lists.')\n",
    "parser.add_argument('num_missing', type=int, help='Number of empty slots in the board. Must be less than 81.')\n",
    "parser.add_argument('--output_file', type=str, default='sudoku.json', help='File to write the board configuration to.')\n",
    "parser.add_argument('--block_size', type=int, default=3, help='Size of the blocks on the Sudoku board.')\n",
    "args = parser.parse_args([f'{num_missing}'])\n",
    "\n",
    "board = make_board(args.block_size)\n",
    "\n",
    "ms = int(pow(args.block_size, 2))\n",
    "indices = random.sample(list(range(ms * ms)), args.num_missing)\n",
    "for index in indices:\n",
    "    r = int(index / ms)\n",
    "    c = int(index % ms)\n",
    "    board[r][c] = 0\n",
    "\n",
    "## Write to file\n",
    "with open(args.output_file, 'w') as f:\n",
    "    f.write(json.dumps(board))\n",
    "\n",
    "print(f\"Board written to '{args.output_file}'.\")"
   ]
  },
  {
   "cell_type": "code",
   "execution_count": 15,
   "metadata": {},
   "outputs": [
    {
     "name": "stdout",
     "output_type": "stream",
     "text": [
      "[[3, 4, 0, 7, 6, 5, 9, 0, 2], [2, 8, 9, 4, 1, 3, 6, 7, 5], [6, 5, 7, 0, 2, 8, 4, 3, 1], [8, 2, 3, 1, 7, 0, 5, 9, 4], [7, 6, 5, 3, 9, 4, 2, 1, 8], [9, 0, 4, 8, 5, 2, 0, 6, 0], [5, 3, 0, 6, 4, 7, 1, 2, 9], [4, 9, 6, 2, 0, 1, 3, 5, 7], [1, 7, 2, 5, 3, 0, 8, 4, 6]]\n"
     ]
    }
   ],
   "source": [
    "import json\n",
    "output_file = 'sudoku.json'\n",
    "with open(output_file, 'r') as f:\n",
    "    board = json.load(f)\n",
    "\n",
    "print(board)"
   ]
  }
 ],
 "metadata": {
  "kernelspec": {
   "display_name": "ai_env",
   "language": "python",
   "name": "python3"
  },
  "language_info": {
   "codemirror_mode": {
    "name": "ipython",
    "version": 3
   },
   "file_extension": ".py",
   "mimetype": "text/x-python",
   "name": "python",
   "nbconvert_exporter": "python",
   "pygments_lexer": "ipython3",
   "version": "3.12.6"
  }
 },
 "nbformat": 4,
 "nbformat_minor": 2
}
